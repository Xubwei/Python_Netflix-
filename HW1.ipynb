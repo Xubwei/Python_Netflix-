{
 "cells": [
  {
   "cell_type": "markdown",
   "id": "89a70d46-a0b9-4c38-90eb-c41bbfb81cd9",
   "metadata": {},
   "source": [
    "# 分析Airbnb"
   ]
  },
  {
   "cell_type": "code",
   "execution_count": 1,
   "id": "d2e52388-b088-4c27-852a-bd7124e5f84b",
   "metadata": {},
   "outputs": [],
   "source": [
    "# 把紅色警告的字隱藏\n",
    "import warnings\n",
    "warnings.filterwarnings(\"ignore\")"
   ]
  },
  {
   "cell_type": "code",
   "execution_count": 2,
   "id": "0e514c3f-575f-4289-b6f6-70eff737ec05",
   "metadata": {},
   "outputs": [],
   "source": [
    "# 匯入CSV檔案\n",
    "import pandas as pd\n",
    "df = pd.read_csv('Data.csv')"
   ]
  },
  {
   "cell_type": "code",
   "execution_count": 3,
   "id": "d5472236-9c5c-4632-b5a4-648b0c13a943",
   "metadata": {},
   "outputs": [],
   "source": [
    "import numpy as np\n",
    "import pandas as pd\n",
    "\n",
    "import seaborn as sns\n",
    "import matplotlib.pyplot as plt\n",
    "import datetime as dt"
   ]
  },
  {
   "cell_type": "markdown",
   "id": "f1b45d8c-4127-420e-a367-f412731b3f71",
   "metadata": {},
   "source": [
    "data解釋： https://docs.google.com/spreadsheets/d/1b_dvmyhb_kAJhUmv81rAxl4KcXn0Pymz"
   ]
  },
  {
   "cell_type": "markdown",
   "id": "dfdeba4e-8af0-44ea-9928-d6cce0c22c87",
   "metadata": {},
   "source": [
    "Questions:\n",
    "1. In the data, there are two values of host_identity_verified. Which value is larger?\n",
    "2. What are the top 2 neighbourhood_group?\n",
    "3. How many room types are in the data and what are their proportions?"
   ]
  },
  {
   "cell_type": "code",
   "execution_count": 4,
   "id": "f70e5c2c-8395-484a-a7a2-c6458cd91d33",
   "metadata": {},
   "outputs": [
    {
     "name": "stdout",
     "output_type": "stream",
     "text": [
      "<class 'pandas.core.frame.DataFrame'>\n",
      "RangeIndex: 102599 entries, 0 to 102598\n",
      "Data columns (total 26 columns):\n",
      " #   Column                          Non-Null Count   Dtype  \n",
      "---  ------                          --------------   -----  \n",
      " 0   id                              102599 non-null  int64  \n",
      " 1   NAME                            102349 non-null  object \n",
      " 2   host id                         102599 non-null  int64  \n",
      " 3   host_identity_verified          102310 non-null  object \n",
      " 4   host name                       102193 non-null  object \n",
      " 5   neighbourhood group             102570 non-null  object \n",
      " 6   neighbourhood                   102583 non-null  object \n",
      " 7   lat                             102591 non-null  float64\n",
      " 8   long                            102591 non-null  float64\n",
      " 9   country                         102067 non-null  object \n",
      " 10  country code                    102468 non-null  object \n",
      " 11  instant_bookable                102494 non-null  object \n",
      " 12  cancellation_policy             102523 non-null  object \n",
      " 13  room type                       102599 non-null  object \n",
      " 14  Construction year               102385 non-null  float64\n",
      " 15  price                           102352 non-null  object \n",
      " 16  service fee                     102326 non-null  object \n",
      " 17  minimum nights                  102190 non-null  float64\n",
      " 18  number of reviews               102416 non-null  float64\n",
      " 19  last review                     86706 non-null   object \n",
      " 20  reviews per month               86720 non-null   float64\n",
      " 21  review rate number              102273 non-null  float64\n",
      " 22  calculated host listings count  102280 non-null  float64\n",
      " 23  availability 365                102151 non-null  float64\n",
      " 24  house_rules                     50468 non-null   object \n",
      " 25  license                         2 non-null       object \n",
      "dtypes: float64(9), int64(2), object(15)\n",
      "memory usage: 20.4+ MB\n"
     ]
    }
   ],
   "source": [
    "df.info()"
   ]
  },
  {
   "cell_type": "code",
   "execution_count": 5,
   "id": "453e8643-fba0-41fd-a656-5926bcce1234",
   "metadata": {},
   "outputs": [
    {
     "data": {
      "text/plain": [
       "array(['unconfirmed', 'verified', nan], dtype=object)"
      ]
     },
     "execution_count": 5,
     "metadata": {},
     "output_type": "execute_result"
    }
   ],
   "source": [
    "df.host_identity_verified.unique()"
   ]
  },
  {
   "cell_type": "markdown",
   "id": "c1bcac72-254d-4b34-83db-225db5dbc9bf",
   "metadata": {},
   "source": [
    "### 處理空值"
   ]
  },
  {
   "cell_type": "code",
   "execution_count": 6,
   "id": "0ca95ed2-94eb-4bba-a412-e0038bddfe29",
   "metadata": {},
   "outputs": [],
   "source": [
    "df = df.drop('license', axis=1)\n",
    "df = df.drop('house_rules',axis=1)\n",
    "df = df.drop('country code',axis=1)\n",
    "df = df.drop('instant_bookable',axis=1)"
   ]
  },
  {
   "cell_type": "code",
   "execution_count": 7,
   "id": "a47b9a4d-8779-4511-bc58-8faf3267c156",
   "metadata": {},
   "outputs": [
    {
     "name": "stdout",
     "output_type": "stream",
     "text": [
      "<class 'pandas.core.frame.DataFrame'>\n",
      "Int64Index: 83896 entries, 0 to 102597\n",
      "Data columns (total 22 columns):\n",
      " #   Column                          Non-Null Count  Dtype  \n",
      "---  ------                          --------------  -----  \n",
      " 0   id                              83896 non-null  int64  \n",
      " 1   NAME                            83896 non-null  object \n",
      " 2   host id                         83896 non-null  int64  \n",
      " 3   host_identity_verified          83896 non-null  object \n",
      " 4   host name                       83896 non-null  object \n",
      " 5   neighbourhood group             83896 non-null  object \n",
      " 6   neighbourhood                   83896 non-null  object \n",
      " 7   lat                             83896 non-null  float64\n",
      " 8   long                            83896 non-null  float64\n",
      " 9   country                         83896 non-null  object \n",
      " 10  cancellation_policy             83896 non-null  object \n",
      " 11  room type                       83896 non-null  object \n",
      " 12  Construction year               83896 non-null  float64\n",
      " 13  price                           83896 non-null  object \n",
      " 14  service fee                     83896 non-null  object \n",
      " 15  minimum nights                  83896 non-null  float64\n",
      " 16  number of reviews               83896 non-null  float64\n",
      " 17  last review                     83896 non-null  object \n",
      " 18  reviews per month               83896 non-null  float64\n",
      " 19  review rate number              83896 non-null  float64\n",
      " 20  calculated host listings count  83896 non-null  float64\n",
      " 21  availability 365                83896 non-null  float64\n",
      "dtypes: float64(9), int64(2), object(11)\n",
      "memory usage: 14.7+ MB\n"
     ]
    }
   ],
   "source": [
    "df.dropna(axis=0, inplace=True)\n",
    "df.info()"
   ]
  },
  {
   "cell_type": "code",
   "execution_count": 8,
   "id": "ef080356-b111-404d-b31e-4a0b624e72f4",
   "metadata": {},
   "outputs": [],
   "source": [
    "#檢查有無空值\n",
    "#df.isna().any()"
   ]
  },
  {
   "cell_type": "markdown",
   "id": "809db74b-2843-4cda-b051-3daf137ec42b",
   "metadata": {},
   "source": [
    "### 檢查重複值"
   ]
  },
  {
   "cell_type": "code",
   "execution_count": 9,
   "id": "18ac7598-4be2-43a2-99c5-b8563a4f9b22",
   "metadata": {},
   "outputs": [
    {
     "data": {
      "text/plain": [
       "False    83430\n",
       "True       466\n",
       "dtype: int64"
      ]
     },
     "execution_count": 9,
     "metadata": {},
     "output_type": "execute_result"
    }
   ],
   "source": [
    "df.duplicated().value_counts()"
   ]
  },
  {
   "cell_type": "code",
   "execution_count": 10,
   "id": "87c6e5e8-eb7f-404e-adc6-1b8d39da55ac",
   "metadata": {
    "tags": []
   },
   "outputs": [],
   "source": [
    "#把重複地拿掉\n",
    "df.drop_duplicates(inplace=True)"
   ]
  },
  {
   "cell_type": "markdown",
   "id": "261fc737-fbfd-4c1d-9ca0-6acc8ddae760",
   "metadata": {},
   "source": [
    "### 處理資料型態"
   ]
  },
  {
   "cell_type": "code",
   "execution_count": 11,
   "id": "d665857d-efa3-43d7-8881-0c2ec6d57328",
   "metadata": {},
   "outputs": [
    {
     "name": "stdout",
     "output_type": "stream",
     "text": [
      "<class 'pandas.core.frame.DataFrame'>\n",
      "Int64Index: 83430 entries, 0 to 102040\n",
      "Data columns (total 22 columns):\n",
      " #   Column                          Non-Null Count  Dtype         \n",
      "---  ------                          --------------  -----         \n",
      " 0   id                              83430 non-null  int64         \n",
      " 1   NAME                            83430 non-null  object        \n",
      " 2   host id                         83430 non-null  int64         \n",
      " 3   host_identity_verified          83430 non-null  object        \n",
      " 4   host name                       83430 non-null  object        \n",
      " 5   neighbourhood group             83430 non-null  object        \n",
      " 6   neighbourhood                   83430 non-null  object        \n",
      " 7   lat                             83430 non-null  float64       \n",
      " 8   long                            83430 non-null  float64       \n",
      " 9   country                         83430 non-null  object        \n",
      " 10  cancellation_policy             83430 non-null  object        \n",
      " 11  room type                       83430 non-null  object        \n",
      " 12  Construction year               83430 non-null  float64       \n",
      " 13  price                           83430 non-null  object        \n",
      " 14  service fee                     83430 non-null  object        \n",
      " 15  minimum nights                  83430 non-null  float64       \n",
      " 16  number of reviews               83430 non-null  float64       \n",
      " 17  last review                     83430 non-null  datetime64[ns]\n",
      " 18  reviews per month               83430 non-null  float64       \n",
      " 19  review rate number              83430 non-null  float64       \n",
      " 20  calculated host listings count  83430 non-null  float64       \n",
      " 21  availability 365                83430 non-null  float64       \n",
      "dtypes: datetime64[ns](1), float64(9), int64(2), object(10)\n",
      "memory usage: 14.6+ MB\n"
     ]
    }
   ],
   "source": [
    "df[\"last review\"] = pd.to_datetime(df[\"last review\"])\n",
    "df.info()"
   ]
  },
  {
   "cell_type": "code",
   "execution_count": 12,
   "id": "9ce97061-39a9-49e7-ac4e-efc3bba60a1d",
   "metadata": {},
   "outputs": [
    {
     "data": {
      "text/html": [
       "<div>\n",
       "<style scoped>\n",
       "    .dataframe tbody tr th:only-of-type {\n",
       "        vertical-align: middle;\n",
       "    }\n",
       "\n",
       "    .dataframe tbody tr th {\n",
       "        vertical-align: top;\n",
       "    }\n",
       "\n",
       "    .dataframe thead th {\n",
       "        text-align: right;\n",
       "    }\n",
       "</style>\n",
       "<table border=\"1\" class=\"dataframe\">\n",
       "  <thead>\n",
       "    <tr style=\"text-align: right;\">\n",
       "      <th></th>\n",
       "      <th>id</th>\n",
       "      <th>host id</th>\n",
       "      <th>lat</th>\n",
       "      <th>long</th>\n",
       "      <th>Construction year</th>\n",
       "      <th>minimum nights</th>\n",
       "      <th>number of reviews</th>\n",
       "      <th>reviews per month</th>\n",
       "      <th>review rate number</th>\n",
       "      <th>calculated host listings count</th>\n",
       "      <th>availability 365</th>\n",
       "    </tr>\n",
       "  </thead>\n",
       "  <tbody>\n",
       "    <tr>\n",
       "      <th>count</th>\n",
       "      <td>8.343000e+04</td>\n",
       "      <td>8.343000e+04</td>\n",
       "      <td>83430.000000</td>\n",
       "      <td>83430.000000</td>\n",
       "      <td>83430.000000</td>\n",
       "      <td>83430.000000</td>\n",
       "      <td>83430.000000</td>\n",
       "      <td>83430.000000</td>\n",
       "      <td>83430.000000</td>\n",
       "      <td>83430.000000</td>\n",
       "      <td>83430.000000</td>\n",
       "    </tr>\n",
       "    <tr>\n",
       "      <th>mean</th>\n",
       "      <td>2.957726e+07</td>\n",
       "      <td>4.918542e+10</td>\n",
       "      <td>40.727352</td>\n",
       "      <td>-73.948500</td>\n",
       "      <td>2012.488457</td>\n",
       "      <td>7.405945</td>\n",
       "      <td>32.283951</td>\n",
       "      <td>1.377641</td>\n",
       "      <td>3.278665</td>\n",
       "      <td>7.031499</td>\n",
       "      <td>141.787415</td>\n",
       "    </tr>\n",
       "    <tr>\n",
       "      <th>std</th>\n",
       "      <td>1.622200e+07</td>\n",
       "      <td>2.853593e+10</td>\n",
       "      <td>0.056324</td>\n",
       "      <td>0.050346</td>\n",
       "      <td>5.760731</td>\n",
       "      <td>28.100781</td>\n",
       "      <td>51.962793</td>\n",
       "      <td>1.750990</td>\n",
       "      <td>1.283667</td>\n",
       "      <td>29.548338</td>\n",
       "      <td>133.926054</td>\n",
       "    </tr>\n",
       "    <tr>\n",
       "      <th>min</th>\n",
       "      <td>1.001254e+06</td>\n",
       "      <td>1.236005e+08</td>\n",
       "      <td>40.504560</td>\n",
       "      <td>-74.249840</td>\n",
       "      <td>2003.000000</td>\n",
       "      <td>-365.000000</td>\n",
       "      <td>1.000000</td>\n",
       "      <td>0.010000</td>\n",
       "      <td>1.000000</td>\n",
       "      <td>1.000000</td>\n",
       "      <td>-10.000000</td>\n",
       "    </tr>\n",
       "    <tr>\n",
       "      <th>25%</th>\n",
       "      <td>1.541374e+07</td>\n",
       "      <td>2.444857e+10</td>\n",
       "      <td>40.687650</td>\n",
       "      <td>-73.982110</td>\n",
       "      <td>2007.000000</td>\n",
       "      <td>2.000000</td>\n",
       "      <td>3.000000</td>\n",
       "      <td>0.220000</td>\n",
       "      <td>2.000000</td>\n",
       "      <td>1.000000</td>\n",
       "      <td>6.000000</td>\n",
       "    </tr>\n",
       "    <tr>\n",
       "      <th>50%</th>\n",
       "      <td>3.076009e+07</td>\n",
       "      <td>4.902732e+10</td>\n",
       "      <td>40.721320</td>\n",
       "      <td>-73.953720</td>\n",
       "      <td>2012.000000</td>\n",
       "      <td>3.000000</td>\n",
       "      <td>11.000000</td>\n",
       "      <td>0.740000</td>\n",
       "      <td>3.000000</td>\n",
       "      <td>1.000000</td>\n",
       "      <td>101.000000</td>\n",
       "    </tr>\n",
       "    <tr>\n",
       "      <th>75%</th>\n",
       "      <td>4.332063e+07</td>\n",
       "      <td>7.385106e+10</td>\n",
       "      <td>40.762597</td>\n",
       "      <td>-73.930813</td>\n",
       "      <td>2017.000000</td>\n",
       "      <td>5.000000</td>\n",
       "      <td>38.000000</td>\n",
       "      <td>2.010000</td>\n",
       "      <td>4.000000</td>\n",
       "      <td>2.000000</td>\n",
       "      <td>266.000000</td>\n",
       "    </tr>\n",
       "    <tr>\n",
       "      <th>max</th>\n",
       "      <td>5.735803e+07</td>\n",
       "      <td>9.876313e+10</td>\n",
       "      <td>40.916970</td>\n",
       "      <td>-73.705220</td>\n",
       "      <td>2022.000000</td>\n",
       "      <td>5645.000000</td>\n",
       "      <td>1024.000000</td>\n",
       "      <td>90.000000</td>\n",
       "      <td>5.000000</td>\n",
       "      <td>332.000000</td>\n",
       "      <td>3677.000000</td>\n",
       "    </tr>\n",
       "  </tbody>\n",
       "</table>\n",
       "</div>"
      ],
      "text/plain": [
       "                 id       host id           lat          long  \\\n",
       "count  8.343000e+04  8.343000e+04  83430.000000  83430.000000   \n",
       "mean   2.957726e+07  4.918542e+10     40.727352    -73.948500   \n",
       "std    1.622200e+07  2.853593e+10      0.056324      0.050346   \n",
       "min    1.001254e+06  1.236005e+08     40.504560    -74.249840   \n",
       "25%    1.541374e+07  2.444857e+10     40.687650    -73.982110   \n",
       "50%    3.076009e+07  4.902732e+10     40.721320    -73.953720   \n",
       "75%    4.332063e+07  7.385106e+10     40.762597    -73.930813   \n",
       "max    5.735803e+07  9.876313e+10     40.916970    -73.705220   \n",
       "\n",
       "       Construction year  minimum nights  number of reviews  \\\n",
       "count       83430.000000    83430.000000       83430.000000   \n",
       "mean         2012.488457        7.405945          32.283951   \n",
       "std             5.760731       28.100781          51.962793   \n",
       "min          2003.000000     -365.000000           1.000000   \n",
       "25%          2007.000000        2.000000           3.000000   \n",
       "50%          2012.000000        3.000000          11.000000   \n",
       "75%          2017.000000        5.000000          38.000000   \n",
       "max          2022.000000     5645.000000        1024.000000   \n",
       "\n",
       "       reviews per month  review rate number  calculated host listings count  \\\n",
       "count       83430.000000        83430.000000                    83430.000000   \n",
       "mean            1.377641            3.278665                        7.031499   \n",
       "std             1.750990            1.283667                       29.548338   \n",
       "min             0.010000            1.000000                        1.000000   \n",
       "25%             0.220000            2.000000                        1.000000   \n",
       "50%             0.740000            3.000000                        1.000000   \n",
       "75%             2.010000            4.000000                        2.000000   \n",
       "max            90.000000            5.000000                      332.000000   \n",
       "\n",
       "       availability 365  \n",
       "count      83430.000000  \n",
       "mean         141.787415  \n",
       "std          133.926054  \n",
       "min          -10.000000  \n",
       "25%            6.000000  \n",
       "50%          101.000000  \n",
       "75%          266.000000  \n",
       "max         3677.000000  "
      ]
     },
     "execution_count": 12,
     "metadata": {},
     "output_type": "execute_result"
    }
   ],
   "source": [
    "df.describe()"
   ]
  },
  {
   "cell_type": "code",
   "execution_count": 13,
   "id": "075ebb6d-35be-4c0e-a61d-93415a6ad297",
   "metadata": {},
   "outputs": [
    {
     "data": {
      "text/html": [
       "<div>\n",
       "<style scoped>\n",
       "    .dataframe tbody tr th:only-of-type {\n",
       "        vertical-align: middle;\n",
       "    }\n",
       "\n",
       "    .dataframe tbody tr th {\n",
       "        vertical-align: top;\n",
       "    }\n",
       "\n",
       "    .dataframe thead th {\n",
       "        text-align: right;\n",
       "    }\n",
       "</style>\n",
       "<table border=\"1\" class=\"dataframe\">\n",
       "  <thead>\n",
       "    <tr style=\"text-align: right;\">\n",
       "      <th></th>\n",
       "      <th>NAME</th>\n",
       "      <th>host_identity_verified</th>\n",
       "      <th>host name</th>\n",
       "      <th>neighbourhood group</th>\n",
       "      <th>neighbourhood</th>\n",
       "      <th>country</th>\n",
       "      <th>cancellation_policy</th>\n",
       "      <th>room type</th>\n",
       "      <th>price</th>\n",
       "      <th>service fee</th>\n",
       "    </tr>\n",
       "  </thead>\n",
       "  <tbody>\n",
       "    <tr>\n",
       "      <th>count</th>\n",
       "      <td>83430</td>\n",
       "      <td>83430</td>\n",
       "      <td>83430</td>\n",
       "      <td>83430</td>\n",
       "      <td>83430</td>\n",
       "      <td>83430</td>\n",
       "      <td>83430</td>\n",
       "      <td>83430</td>\n",
       "      <td>83430</td>\n",
       "      <td>83430</td>\n",
       "    </tr>\n",
       "    <tr>\n",
       "      <th>unique</th>\n",
       "      <td>50539</td>\n",
       "      <td>2</td>\n",
       "      <td>11649</td>\n",
       "      <td>6</td>\n",
       "      <td>223</td>\n",
       "      <td>1</td>\n",
       "      <td>3</td>\n",
       "      <td>4</td>\n",
       "      <td>1151</td>\n",
       "      <td>231</td>\n",
       "    </tr>\n",
       "    <tr>\n",
       "      <th>top</th>\n",
       "      <td>Water View King Bed Hotel Room</td>\n",
       "      <td>unconfirmed</td>\n",
       "      <td>Michael</td>\n",
       "      <td>Brooklyn</td>\n",
       "      <td>Bedford-Stuyvesant</td>\n",
       "      <td>United States</td>\n",
       "      <td>moderate</td>\n",
       "      <td>Entire home/apt</td>\n",
       "      <td>$206</td>\n",
       "      <td>$216</td>\n",
       "    </tr>\n",
       "    <tr>\n",
       "      <th>freq</th>\n",
       "      <td>25</td>\n",
       "      <td>41728</td>\n",
       "      <td>715</td>\n",
       "      <td>34643</td>\n",
       "      <td>6756</td>\n",
       "      <td>83430</td>\n",
       "      <td>27956</td>\n",
       "      <td>44173</td>\n",
       "      <td>124</td>\n",
       "      <td>451</td>\n",
       "    </tr>\n",
       "  </tbody>\n",
       "</table>\n",
       "</div>"
      ],
      "text/plain": [
       "                                  NAME host_identity_verified host name  \\\n",
       "count                            83430                  83430     83430   \n",
       "unique                           50539                      2     11649   \n",
       "top     Water View King Bed Hotel Room            unconfirmed   Michael   \n",
       "freq                                25                  41728       715   \n",
       "\n",
       "       neighbourhood group       neighbourhood        country  \\\n",
       "count                83430               83430          83430   \n",
       "unique                   6                 223              1   \n",
       "top               Brooklyn  Bedford-Stuyvesant  United States   \n",
       "freq                 34643                6756          83430   \n",
       "\n",
       "       cancellation_policy        room type  price service fee  \n",
       "count                83430            83430  83430       83430  \n",
       "unique                   3                4   1151         231  \n",
       "top               moderate  Entire home/apt  $206        $216   \n",
       "freq                 27956            44173    124         451  "
      ]
     },
     "execution_count": 13,
     "metadata": {},
     "output_type": "execute_result"
    }
   ],
   "source": [
    "df.describe(include = 'object')"
   ]
  },
  {
   "cell_type": "code",
   "execution_count": 14,
   "id": "08dec098-9153-4275-90c9-3b6b099863c5",
   "metadata": {},
   "outputs": [
    {
     "data": {
      "text/plain": [
       "array([4., 3., 5., 2., 1.])"
      ]
     },
     "execution_count": 14,
     "metadata": {},
     "output_type": "execute_result"
    }
   ],
   "source": [
    "df['review rate number'].unique()"
   ]
  },
  {
   "cell_type": "code",
   "execution_count": 15,
   "id": "1ca4a14c-763f-42c2-b7ec-b290ed295a68",
   "metadata": {},
   "outputs": [
    {
     "data": {
      "text/html": [
       "<div>\n",
       "<style scoped>\n",
       "    .dataframe tbody tr th:only-of-type {\n",
       "        vertical-align: middle;\n",
       "    }\n",
       "\n",
       "    .dataframe tbody tr th {\n",
       "        vertical-align: top;\n",
       "    }\n",
       "\n",
       "    .dataframe thead th {\n",
       "        text-align: right;\n",
       "    }\n",
       "</style>\n",
       "<table border=\"1\" class=\"dataframe\">\n",
       "  <thead>\n",
       "    <tr style=\"text-align: right;\">\n",
       "      <th></th>\n",
       "      <th>id</th>\n",
       "      <th>NAME</th>\n",
       "      <th>host id</th>\n",
       "      <th>host_identity_verified</th>\n",
       "      <th>host name</th>\n",
       "      <th>neighbourhood group</th>\n",
       "      <th>neighbourhood</th>\n",
       "      <th>lat</th>\n",
       "      <th>long</th>\n",
       "      <th>country</th>\n",
       "      <th>...</th>\n",
       "      <th>Construction year</th>\n",
       "      <th>price</th>\n",
       "      <th>service fee</th>\n",
       "      <th>minimum nights</th>\n",
       "      <th>number of reviews</th>\n",
       "      <th>last review</th>\n",
       "      <th>reviews per month</th>\n",
       "      <th>review rate number</th>\n",
       "      <th>calculated host listings count</th>\n",
       "      <th>availability 365</th>\n",
       "    </tr>\n",
       "  </thead>\n",
       "  <tbody>\n",
       "    <tr>\n",
       "      <th>0</th>\n",
       "      <td>1001254</td>\n",
       "      <td>Clean &amp; quiet apt home by the park</td>\n",
       "      <td>80014485718</td>\n",
       "      <td>unconfirmed</td>\n",
       "      <td>Madaline</td>\n",
       "      <td>Brooklyn</td>\n",
       "      <td>Kensington</td>\n",
       "      <td>40.64749</td>\n",
       "      <td>-73.97237</td>\n",
       "      <td>United States</td>\n",
       "      <td>...</td>\n",
       "      <td>2020.0</td>\n",
       "      <td>$966</td>\n",
       "      <td>$193</td>\n",
       "      <td>10.0</td>\n",
       "      <td>9.0</td>\n",
       "      <td>2021-10-19</td>\n",
       "      <td>0.21</td>\n",
       "      <td>4.0</td>\n",
       "      <td>6.0</td>\n",
       "      <td>286.0</td>\n",
       "    </tr>\n",
       "    <tr>\n",
       "      <th>1</th>\n",
       "      <td>1002102</td>\n",
       "      <td>Skylit Midtown Castle</td>\n",
       "      <td>52335172823</td>\n",
       "      <td>verified</td>\n",
       "      <td>Jenna</td>\n",
       "      <td>Manhattan</td>\n",
       "      <td>Midtown</td>\n",
       "      <td>40.75362</td>\n",
       "      <td>-73.98377</td>\n",
       "      <td>United States</td>\n",
       "      <td>...</td>\n",
       "      <td>2007.0</td>\n",
       "      <td>$142</td>\n",
       "      <td>$28</td>\n",
       "      <td>30.0</td>\n",
       "      <td>45.0</td>\n",
       "      <td>2022-05-21</td>\n",
       "      <td>0.38</td>\n",
       "      <td>4.0</td>\n",
       "      <td>2.0</td>\n",
       "      <td>228.0</td>\n",
       "    </tr>\n",
       "    <tr>\n",
       "      <th>4</th>\n",
       "      <td>1003689</td>\n",
       "      <td>Entire Apt: Spacious Studio/Loft by central park</td>\n",
       "      <td>92037596077</td>\n",
       "      <td>verified</td>\n",
       "      <td>Lyndon</td>\n",
       "      <td>Manhattan</td>\n",
       "      <td>East Harlem</td>\n",
       "      <td>40.79851</td>\n",
       "      <td>-73.94399</td>\n",
       "      <td>United States</td>\n",
       "      <td>...</td>\n",
       "      <td>2009.0</td>\n",
       "      <td>$204</td>\n",
       "      <td>$41</td>\n",
       "      <td>10.0</td>\n",
       "      <td>9.0</td>\n",
       "      <td>2018-11-19</td>\n",
       "      <td>0.10</td>\n",
       "      <td>3.0</td>\n",
       "      <td>1.0</td>\n",
       "      <td>289.0</td>\n",
       "    </tr>\n",
       "  </tbody>\n",
       "</table>\n",
       "<p>3 rows × 22 columns</p>\n",
       "</div>"
      ],
      "text/plain": [
       "        id                                              NAME      host id  \\\n",
       "0  1001254                Clean & quiet apt home by the park  80014485718   \n",
       "1  1002102                             Skylit Midtown Castle  52335172823   \n",
       "4  1003689  Entire Apt: Spacious Studio/Loft by central park  92037596077   \n",
       "\n",
       "  host_identity_verified host name neighbourhood group neighbourhood  \\\n",
       "0            unconfirmed  Madaline            Brooklyn    Kensington   \n",
       "1               verified     Jenna           Manhattan       Midtown   \n",
       "4               verified    Lyndon           Manhattan   East Harlem   \n",
       "\n",
       "        lat      long        country  ... Construction year  price  \\\n",
       "0  40.64749 -73.97237  United States  ...            2020.0  $966    \n",
       "1  40.75362 -73.98377  United States  ...            2007.0  $142    \n",
       "4  40.79851 -73.94399  United States  ...            2009.0  $204    \n",
       "\n",
       "   service fee minimum nights number of reviews  last review  \\\n",
       "0        $193            10.0               9.0   2021-10-19   \n",
       "1         $28            30.0              45.0   2022-05-21   \n",
       "4         $41            10.0               9.0   2018-11-19   \n",
       "\n",
       "   reviews per month review rate number  calculated host listings count  \\\n",
       "0               0.21                4.0                             6.0   \n",
       "1               0.38                4.0                             2.0   \n",
       "4               0.10                3.0                             1.0   \n",
       "\n",
       "   availability 365  \n",
       "0             286.0  \n",
       "1             228.0  \n",
       "4             289.0  \n",
       "\n",
       "[3 rows x 22 columns]"
      ]
     },
     "execution_count": 15,
     "metadata": {},
     "output_type": "execute_result"
    }
   ],
   "source": [
    "df.head(3)"
   ]
  },
  {
   "cell_type": "markdown",
   "id": "6d637baa-2d76-4d68-a2db-1d32cc8e098f",
   "metadata": {},
   "source": [
    "## Q1.In the data, there are two values of host_identity_verified. Which value is larger?"
   ]
  },
  {
   "cell_type": "code",
   "execution_count": 16,
   "id": "bb6f02d5-16f8-4fa0-9912-ff8a62eefeab",
   "metadata": {},
   "outputs": [
    {
     "data": {
      "text/plain": [
       "unconfirmed    41728\n",
       "verified       41702\n",
       "Name: host_identity_verified, dtype: int64"
      ]
     },
     "execution_count": 16,
     "metadata": {},
     "output_type": "execute_result"
    }
   ],
   "source": [
    "df['host_identity_verified'].value_counts()"
   ]
  },
  {
   "cell_type": "markdown",
   "id": "74006a4d-1103-4b8a-93e8-84ff4e754091",
   "metadata": {},
   "source": [
    "## Q2. What are the top 2 neighbourhood_group?"
   ]
  },
  {
   "cell_type": "code",
   "execution_count": 17,
   "id": "bbc448ae-93a4-48c9-bed5-ed9f6ef9a58d",
   "metadata": {},
   "outputs": [
    {
     "data": {
      "text/plain": [
       "Brooklyn         34643\n",
       "Manhattan        34573\n",
       "Queens           11130\n",
       "Bronx             2267\n",
       "Staten Island      816\n",
       "brookln              1\n",
       "Name: neighbourhood group, dtype: int64"
      ]
     },
     "execution_count": 17,
     "metadata": {},
     "output_type": "execute_result"
    }
   ],
   "source": [
    "df['neighbourhood group'].value_counts()"
   ]
  },
  {
   "cell_type": "code",
   "execution_count": 18,
   "id": "026e9fc7-1aa1-4d5c-8f46-b7082e0b698a",
   "metadata": {},
   "outputs": [
    {
     "data": {
      "image/png": "[encoded data removed]",
      "text/plain": [
       "<Figure size 1000x500 with 1 Axes>"
      ]
     },
     "metadata": {},
     "output_type": "display_data"
    }
   ],
   "source": [
    "sort_order = df.groupby('neighbourhood group').count().sort_values(by = 'id',ascending=False).index\n",
    "\n",
    "plt.figure(figsize=[10,5])\n",
    "base_color = sns.color_palette('coolwarm',n_colors=5)\n",
    "\n",
    "graph = sns.countplot(x='neighbourhood group', data=df,palette = base_color,order=sort_order)\n",
    "plt.show()\n"
   ]
  },
  {
   "cell_type": "code",
   "execution_count": 19,
   "id": "a2859cfa-eb78-4d85-a5d3-6dab91ab0644",
   "metadata": {},
   "outputs": [
    {
     "data": {
      "image/png": "[encoded data removed]",
      "text/plain": [
       "<Figure size 1000x500 with 1 Axes>"
      ]
     },
     "metadata": {},
     "output_type": "display_data"
    }
   ],
   "source": [
    "sort_order = df.groupby('neighbourhood group').count().sort_values(by = 'id',ascending=False).index\n",
    "\n",
    "plt.figure(figsize=[10,5])\n",
    "base_color = sns.color_palette('coolwarm',n_colors=5)\n",
    "\n",
    "graph = sns.countplot(x='neighbourhood group', data=df,palette = base_color,order=sort_order,hue='review rate number')\n",
    "plt.show()"
   ]
  },
  {
   "cell_type": "markdown",
   "id": "a01c0b52-ef73-4ed7-a5ba-10ada8a374cf",
   "metadata": {},
   "source": [
    "## Q3.How many room types are in the data and what are their proportions?"
   ]
  },
  {
   "cell_type": "code",
   "execution_count": 22,
   "id": "7f407c6b-2852-4ce4-9475-0abe776969b5",
   "metadata": {},
   "outputs": [
    {
     "data": {
      "text/plain": [
       "array(['Private room', 'Entire home/apt', 'Shared room', 'Hotel room'],\n",
       "      dtype=object)"
      ]
     },
     "execution_count": 22,
     "metadata": {},
     "output_type": "execute_result"
    }
   ],
   "source": [
    "df['room type'].unique()"
   ]
  },
  {
   "cell_type": "code",
   "execution_count": 24,
   "id": "f4e3be1e-a060-4eaa-931b-7970512b7815",
   "metadata": {},
   "outputs": [
    {
     "data": {
      "text/plain": [
       "Entire home/apt    44173\n",
       "Private room       37503\n",
       "Shared room         1646\n",
       "Hotel room           108\n",
       "Name: room type, dtype: int64"
      ]
     },
     "execution_count": 24,
     "metadata": {},
     "output_type": "execute_result"
    }
   ],
   "source": [
    "df['room type'].value_counts()"
   ]
  },
  {
   "cell_type": "code",
   "execution_count": 35,
   "id": "b2d1ef55-8bd0-48f5-afcd-5f317b8e06a0",
   "metadata": {},
   "outputs": [
    {
     "data": {
      "image/png": "[encoded data removed]",
      "text/plain": [
       "<Figure size 1000x500 with 1 Axes>"
      ]
     },
     "metadata": {},
     "output_type": "display_data"
    }
   ],
   "source": [
    "sort_order = df.groupby('room type').count().sort_values(by = 'id',ascending=False).index\n",
    "\n",
    "plt.figure(figsize=[10,5])\n",
    "base_color = sns.color_palette('coolwarm',n_colors=5)\n",
    "graph = sns.countplot(x='room type', data=df,palette = base_color,order=sort_order,hue='review rate number')\n",
    "plt.show()"
   ]
  },
  {
   "cell_type": "code",
   "execution_count": 38,
   "id": "564cd275-6b1a-44c6-915c-1c723f3dadde",
   "metadata": {},
   "outputs": [
    {
     "data": {
      "image/png": "[encoded data removed]",
      "text/plain": [
       "<Figure size 500x500 with 1 Axes>"
      ]
     },
     "metadata": {},
     "output_type": "display_data"
    }
   ],
   "source": [
    "sort_order = df.groupby('room type').count().sort_values(by = 'id',ascending=False).index\n",
    "base_color = sns.color_palette('coolwarm',n_colors=5)\n",
    "\n",
    "seabon_barplot = sns.catplot(\n",
    "    data = df,\n",
    "    kind = \"count\",\n",
    "    x = \"room type\",\n",
    "    palette = base_color,\n",
    "    order=sort_order\n",
    "    )\n",
    "\n",
    "plt.xlabel('Room Type')\n",
    "plt.ylabel('Count')\n",
    "plt.title('Count of Each Room Type')\n",
    "\n",
    "#將 Frequency count 標記到 barplot 上面\n",
    "for ax in seabon_barplot.axes.flat:\n",
    "    ax.bar_label(ax.containers[0])\n"
   ]
  },
  {
   "cell_type": "code",
   "execution_count": 47,
   "id": "e9893e53-bf4b-4451-9ec2-e6451bcd32a9",
   "metadata": {},
   "outputs": [
    {
     "data": {
      "image/png": "[encoded data removed]",
      "text/plain": [
       "<Figure size 600x600 with 1 Axes>"
      ]
     },
     "metadata": {},
     "output_type": "display_data"
    }
   ],
   "source": [
    "sns.set_palette(\"colorblind\")\n",
    "df['room type'].value_counts().plot.pie(autopct='%.1f%%', shadow=True, legend= True, figsize=(6,6))\n",
    "plt.title('types_of_show', fontsize=20)\n",
    "plt.ylabel('')\n",
    "plt.show()"
   ]
  },
  {
   "cell_type": "code",
   "execution_count": null,
   "id": "5679c961-da91-4b3f-8e0b-bc0f5e59d087",
   "metadata": {},
   "outputs": [],
   "source": []
  },
  {
   "cell_type": "markdown",
   "id": "0c2ec192-3e3d-426e-a760-31fccc48ce9a",
   "metadata": {},
   "source": [
    "### 自己畫好玩"
   ]
  },
  {
   "cell_type": "code",
   "execution_count": 55,
   "id": "c48be6bf-e4d3-4e33-b3f6-0f21a1257016",
   "metadata": {},
   "outputs": [
    {
     "ename": "AttributeError",
     "evalue": "Can only use .str accessor with string values!",
     "output_type": "error",
     "traceback": [
      "\u001b[1;31m---------------------------------------------------------------------------\u001b[0m",
      "\u001b[1;31mAttributeError\u001b[0m                            Traceback (most recent call last)",
      "\u001b[1;32m~\\AppData\\Local\\Temp\\ipykernel_5952\\1700299589.py\u001b[0m in \u001b[0;36m<module>\u001b[1;34m\u001b[0m\n\u001b[1;32m----> 1\u001b[1;33m \u001b[0mdf\u001b[0m\u001b[1;33m[\u001b[0m\u001b[1;34m'price'\u001b[0m\u001b[1;33m]\u001b[0m\u001b[1;33m=\u001b[0m\u001b[0mdf\u001b[0m\u001b[1;33m[\u001b[0m\u001b[1;34m'price'\u001b[0m\u001b[1;33m]\u001b[0m\u001b[1;33m.\u001b[0m\u001b[0mstr\u001b[0m\u001b[1;33m.\u001b[0m\u001b[0mreplace\u001b[0m\u001b[1;33m(\u001b[0m\u001b[1;34m'$'\u001b[0m\u001b[1;33m,\u001b[0m\u001b[1;34m''\u001b[0m\u001b[1;33m)\u001b[0m\u001b[1;33m\u001b[0m\u001b[1;33m\u001b[0m\u001b[0m\n\u001b[0m\u001b[0;32m      2\u001b[0m \u001b[0mdf\u001b[0m\u001b[1;33m[\u001b[0m\u001b[1;34m'price'\u001b[0m\u001b[1;33m]\u001b[0m\u001b[1;33m=\u001b[0m\u001b[0mdf\u001b[0m\u001b[1;33m[\u001b[0m\u001b[1;34m'price'\u001b[0m\u001b[1;33m]\u001b[0m\u001b[1;33m.\u001b[0m\u001b[0mstr\u001b[0m\u001b[1;33m.\u001b[0m\u001b[0mreplace\u001b[0m\u001b[1;33m(\u001b[0m\u001b[1;34m','\u001b[0m\u001b[1;33m,\u001b[0m\u001b[1;34m''\u001b[0m\u001b[1;33m)\u001b[0m\u001b[1;33m\u001b[0m\u001b[1;33m\u001b[0m\u001b[0m\n\u001b[0;32m      3\u001b[0m \u001b[0mdf\u001b[0m\u001b[1;33m[\u001b[0m\u001b[1;34m'price'\u001b[0m\u001b[1;33m]\u001b[0m\u001b[1;33m=\u001b[0m\u001b[0mdf\u001b[0m\u001b[1;33m[\u001b[0m\u001b[1;34m'price'\u001b[0m\u001b[1;33m]\u001b[0m\u001b[1;33m.\u001b[0m\u001b[0mastype\u001b[0m\u001b[1;33m(\u001b[0m\u001b[0mint\u001b[0m\u001b[1;33m)\u001b[0m\u001b[1;33m\u001b[0m\u001b[1;33m\u001b[0m\u001b[0m\n\u001b[0;32m      4\u001b[0m \u001b[0mdf\u001b[0m\u001b[1;33m.\u001b[0m\u001b[0minfo\u001b[0m\u001b[1;33m(\u001b[0m\u001b[1;33m)\u001b[0m\u001b[1;33m\u001b[0m\u001b[1;33m\u001b[0m\u001b[0m\n",
      "\u001b[1;32m~\\python\\lib\\site-packages\\pandas\\core\\generic.py\u001b[0m in \u001b[0;36m__getattr__\u001b[1;34m(self, name)\u001b[0m\n\u001b[0;32m   5573\u001b[0m         ):\n\u001b[0;32m   5574\u001b[0m             \u001b[1;32mreturn\u001b[0m \u001b[0mself\u001b[0m\u001b[1;33m[\u001b[0m\u001b[0mname\u001b[0m\u001b[1;33m]\u001b[0m\u001b[1;33m\u001b[0m\u001b[1;33m\u001b[0m\u001b[0m\n\u001b[1;32m-> 5575\u001b[1;33m         \u001b[1;32mreturn\u001b[0m \u001b[0mobject\u001b[0m\u001b[1;33m.\u001b[0m\u001b[0m__getattribute__\u001b[0m\u001b[1;33m(\u001b[0m\u001b[0mself\u001b[0m\u001b[1;33m,\u001b[0m \u001b[0mname\u001b[0m\u001b[1;33m)\u001b[0m\u001b[1;33m\u001b[0m\u001b[1;33m\u001b[0m\u001b[0m\n\u001b[0m\u001b[0;32m   5576\u001b[0m \u001b[1;33m\u001b[0m\u001b[0m\n\u001b[0;32m   5577\u001b[0m     \u001b[1;32mdef\u001b[0m \u001b[0m__setattr__\u001b[0m\u001b[1;33m(\u001b[0m\u001b[0mself\u001b[0m\u001b[1;33m,\u001b[0m \u001b[0mname\u001b[0m\u001b[1;33m:\u001b[0m \u001b[0mstr\u001b[0m\u001b[1;33m,\u001b[0m \u001b[0mvalue\u001b[0m\u001b[1;33m)\u001b[0m \u001b[1;33m->\u001b[0m \u001b[1;32mNone\u001b[0m\u001b[1;33m:\u001b[0m\u001b[1;33m\u001b[0m\u001b[1;33m\u001b[0m\u001b[0m\n",
      "\u001b[1;32m~\\python\\lib\\site-packages\\pandas\\core\\accessor.py\u001b[0m in \u001b[0;36m__get__\u001b[1;34m(self, obj, cls)\u001b[0m\n\u001b[0;32m    180\u001b[0m             \u001b[1;31m# we're accessing the attribute of the class, i.e., Dataset.geo\u001b[0m\u001b[1;33m\u001b[0m\u001b[1;33m\u001b[0m\u001b[0m\n\u001b[0;32m    181\u001b[0m             \u001b[1;32mreturn\u001b[0m \u001b[0mself\u001b[0m\u001b[1;33m.\u001b[0m\u001b[0m_accessor\u001b[0m\u001b[1;33m\u001b[0m\u001b[1;33m\u001b[0m\u001b[0m\n\u001b[1;32m--> 182\u001b[1;33m         \u001b[0maccessor_obj\u001b[0m \u001b[1;33m=\u001b[0m \u001b[0mself\u001b[0m\u001b[1;33m.\u001b[0m\u001b[0m_accessor\u001b[0m\u001b[1;33m(\u001b[0m\u001b[0mobj\u001b[0m\u001b[1;33m)\u001b[0m\u001b[1;33m\u001b[0m\u001b[1;33m\u001b[0m\u001b[0m\n\u001b[0m\u001b[0;32m    183\u001b[0m         \u001b[1;31m# Replace the property with the accessor object. Inspired by:\u001b[0m\u001b[1;33m\u001b[0m\u001b[1;33m\u001b[0m\u001b[0m\n\u001b[0;32m    184\u001b[0m         \u001b[1;31m# https://www.pydanny.com/cached-property.html\u001b[0m\u001b[1;33m\u001b[0m\u001b[1;33m\u001b[0m\u001b[0m\n",
      "\u001b[1;32m~\\python\\lib\\site-packages\\pandas\\core\\strings\\accessor.py\u001b[0m in \u001b[0;36m__init__\u001b[1;34m(self, data)\u001b[0m\n\u001b[0;32m    175\u001b[0m         \u001b[1;32mfrom\u001b[0m \u001b[0mpandas\u001b[0m\u001b[1;33m.\u001b[0m\u001b[0mcore\u001b[0m\u001b[1;33m.\u001b[0m\u001b[0marrays\u001b[0m\u001b[1;33m.\u001b[0m\u001b[0mstring_\u001b[0m \u001b[1;32mimport\u001b[0m \u001b[0mStringDtype\u001b[0m\u001b[1;33m\u001b[0m\u001b[1;33m\u001b[0m\u001b[0m\n\u001b[0;32m    176\u001b[0m \u001b[1;33m\u001b[0m\u001b[0m\n\u001b[1;32m--> 177\u001b[1;33m         \u001b[0mself\u001b[0m\u001b[1;33m.\u001b[0m\u001b[0m_inferred_dtype\u001b[0m \u001b[1;33m=\u001b[0m \u001b[0mself\u001b[0m\u001b[1;33m.\u001b[0m\u001b[0m_validate\u001b[0m\u001b[1;33m(\u001b[0m\u001b[0mdata\u001b[0m\u001b[1;33m)\u001b[0m\u001b[1;33m\u001b[0m\u001b[1;33m\u001b[0m\u001b[0m\n\u001b[0m\u001b[0;32m    178\u001b[0m         \u001b[0mself\u001b[0m\u001b[1;33m.\u001b[0m\u001b[0m_is_categorical\u001b[0m \u001b[1;33m=\u001b[0m \u001b[0mis_categorical_dtype\u001b[0m\u001b[1;33m(\u001b[0m\u001b[0mdata\u001b[0m\u001b[1;33m.\u001b[0m\u001b[0mdtype\u001b[0m\u001b[1;33m)\u001b[0m\u001b[1;33m\u001b[0m\u001b[1;33m\u001b[0m\u001b[0m\n\u001b[0;32m    179\u001b[0m         \u001b[0mself\u001b[0m\u001b[1;33m.\u001b[0m\u001b[0m_is_string\u001b[0m \u001b[1;33m=\u001b[0m \u001b[0misinstance\u001b[0m\u001b[1;33m(\u001b[0m\u001b[0mdata\u001b[0m\u001b[1;33m.\u001b[0m\u001b[0mdtype\u001b[0m\u001b[1;33m,\u001b[0m \u001b[0mStringDtype\u001b[0m\u001b[1;33m)\u001b[0m\u001b[1;33m\u001b[0m\u001b[1;33m\u001b[0m\u001b[0m\n",
      "\u001b[1;32m~\\python\\lib\\site-packages\\pandas\\core\\strings\\accessor.py\u001b[0m in \u001b[0;36m_validate\u001b[1;34m(data)\u001b[0m\n\u001b[0;32m    229\u001b[0m \u001b[1;33m\u001b[0m\u001b[0m\n\u001b[0;32m    230\u001b[0m         \u001b[1;32mif\u001b[0m \u001b[0minferred_dtype\u001b[0m \u001b[1;32mnot\u001b[0m \u001b[1;32min\u001b[0m \u001b[0mallowed_types\u001b[0m\u001b[1;33m:\u001b[0m\u001b[1;33m\u001b[0m\u001b[1;33m\u001b[0m\u001b[0m\n\u001b[1;32m--> 231\u001b[1;33m             \u001b[1;32mraise\u001b[0m \u001b[0mAttributeError\u001b[0m\u001b[1;33m(\u001b[0m\u001b[1;34m\"Can only use .str accessor with string values!\"\u001b[0m\u001b[1;33m)\u001b[0m\u001b[1;33m\u001b[0m\u001b[1;33m\u001b[0m\u001b[0m\n\u001b[0m\u001b[0;32m    232\u001b[0m         \u001b[1;32mreturn\u001b[0m \u001b[0minferred_dtype\u001b[0m\u001b[1;33m\u001b[0m\u001b[1;33m\u001b[0m\u001b[0m\n\u001b[0;32m    233\u001b[0m \u001b[1;33m\u001b[0m\u001b[0m\n",
      "\u001b[1;31mAttributeError\u001b[0m: Can only use .str accessor with string values!"
     ]
    }
   ],
   "source": [
    "df['price']=df['price'].str.replace('$','')\n",
    "df['price']=df['price'].str.replace(',','')\n",
    "df['price']=df['price'].astype(int)\n",
    "df.info()"
   ]
  },
  {
   "cell_type": "code",
   "execution_count": 56,
   "id": "78be6940-750e-41f0-a725-1ef3783c5b2e",
   "metadata": {},
   "outputs": [
    {
     "name": "stdout",
     "output_type": "stream",
     "text": [
      "<class 'pandas.core.frame.DataFrame'>\n",
      "Int64Index: 83430 entries, 0 to 102040\n",
      "Data columns (total 22 columns):\n",
      " #   Column                          Non-Null Count  Dtype         \n",
      "---  ------                          --------------  -----         \n",
      " 0   id                              83430 non-null  int64         \n",
      " 1   NAME                            83430 non-null  object        \n",
      " 2   host id                         83430 non-null  int64         \n",
      " 3   host_identity_verified          83430 non-null  object        \n",
      " 4   host name                       83430 non-null  object        \n",
      " 5   neighbourhood group             83430 non-null  object        \n",
      " 6   neighbourhood                   83430 non-null  object        \n",
      " 7   lat                             83430 non-null  float64       \n",
      " 8   long                            83430 non-null  float64       \n",
      " 9   country                         83430 non-null  object        \n",
      " 10  cancellation_policy             83430 non-null  object        \n",
      " 11  room type                       83430 non-null  object        \n",
      " 12  Construction year               83430 non-null  float64       \n",
      " 13  price                           83430 non-null  int32         \n",
      " 14  service fee                     83430 non-null  object        \n",
      " 15  minimum nights                  83430 non-null  float64       \n",
      " 16  number of reviews               83430 non-null  float64       \n",
      " 17  last review                     83430 non-null  datetime64[ns]\n",
      " 18  reviews per month               83430 non-null  float64       \n",
      " 19  review rate number              83430 non-null  float64       \n",
      " 20  calculated host listings count  83430 non-null  float64       \n",
      " 21  availability 365                83430 non-null  float64       \n",
      "dtypes: datetime64[ns](1), float64(9), int32(1), int64(2), object(9)\n",
      "memory usage: 16.3+ MB\n"
     ]
    }
   ],
   "source": [
    "df.info()"
   ]
  },
  {
   "cell_type": "code",
   "execution_count": 58,
   "id": "bced0221-e4a4-48f5-ba31-d7e7ad26b62a",
   "metadata": {},
   "outputs": [
    {
     "data": {
      "image/png": "[encoded data removed]",
      "text/plain": [
       "<Figure size 640x480 with 1 Axes>"
      ]
     },
     "metadata": {},
     "output_type": "display_data"
    }
   ],
   "source": [
    "# 創建一個 seaborn boxplot\n",
    "# data = transfer_data : 用轉學考資料\n",
    "# y = \"school_grade\" : 用轉學考資料中 column 為 education_source 的資料\n",
    "# x = \"result_text\" : 用轉學考資料中 column 為 education_source 的資料進行分層\n",
    "seaborn_boxplot = sns.boxplot(data = df, x = 'room type', y = 'price')\n",
    "\n",
    "#x, y, 標題名字\n",
    "seaborn_boxplot.set(\n",
    "    xlabel = 'Result', \n",
    "    ylabel = 'School Grade',\n",
    "    title = 'Boxlplot of School Grade Subgroup by Result'\n",
    "    )\n",
    "\n",
    "plt.show()"
   ]
  },
  {
   "cell_type": "code",
   "execution_count": null,
   "id": "a82c42f6-d1d4-4796-8583-7c6c3588796a",
   "metadata": {},
   "outputs": [],
   "source": []
  }
 ],
 "metadata": {
  "kernelspec": {
   "display_name": "Python 3 (ipykernel)",
   "language": "python",
   "name": "python3"
  },
  "language_info": {
   "codemirror_mode": {
    "name": "ipython",
    "version": 3
   },
   "file_extension": ".py",
   "mimetype": "text/x-python",
   "name": "python",
   "nbconvert_exporter": "python",
   "pygments_lexer": "ipython3",
   "version": "3.9.13"
  }
 },
 "nbformat": 4,
 "nbformat_minor": 5
}
